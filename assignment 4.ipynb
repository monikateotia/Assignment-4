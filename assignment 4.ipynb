{
 "cells": [
  {
   "cell_type": "markdown",
   "id": "188d1410-baeb-4252-8f52-5243c1bfc9b5",
   "metadata": {},
   "source": [
    "Question 1-Which keyword is used to create a function ? create a function to return a list of odd\n",
    "numbers in the range of 1 to 25"
   ]
  },
  {
   "cell_type": "markdown",
   "id": "b9a4ea01-d0a3-4112-803f-6baaf5ae459b",
   "metadata": {},
   "source": [
    "ANS-'def' keyword is used to create a function."
   ]
  },
  {
   "cell_type": "code",
   "execution_count": 2,
   "id": "146393d5-32b4-4d9d-b9fa-f0ba6f4a58e2",
   "metadata": {},
   "outputs": [],
   "source": [
    "def test(a) :\n",
    "    l=[]\n",
    "    for i in a:\n",
    "        if i %2!=0 :\n",
    "            l.append(i)\n",
    "    return l    \n",
    "    "
   ]
  },
  {
   "cell_type": "code",
   "execution_count": 4,
   "id": "08add8d0-db5f-46b6-bef6-c02178bdb8c2",
   "metadata": {},
   "outputs": [
    {
     "data": {
      "text/plain": [
       "[1, 3, 5, 7, 9, 11, 13, 15, 17, 19, 21, 23]"
      ]
     },
     "execution_count": 4,
     "metadata": {},
     "output_type": "execute_result"
    }
   ],
   "source": [
    "test(range(1,25))"
   ]
  },
  {
   "cell_type": "markdown",
   "id": "fba27e67-c295-4529-a2f2-a9f87d6dcf27",
   "metadata": {},
   "source": [
    "Question 2-Why *args and **kwargs is used in some function ? create a function each for *args and *kwargs to demonstrate their \n",
    "use."
   ]
  },
  {
   "cell_type": "markdown",
   "id": "369afdfb-8e24-4d8e-900b-10efc3563f2b",
   "metadata": {},
   "source": [
    "The special syntax *args in function definitions in python is used to pass a variable number of arguments to a function.\n",
    "it is used to pass a non-key worded arguments it gives output in tuple form as well as we can pass a variable number of keyword arguments with the special\n",
    "symbol **kwargs it gives return in dictionary form."
   ]
  },
  {
   "cell_type": "markdown",
   "id": "bb6312c0-f08a-4a3d-9936-c5e8ab33f6d6",
   "metadata": {},
   "source": [
    "FOR EXAMPLE--"
   ]
  },
  {
   "cell_type": "code",
   "execution_count": 12,
   "id": "516595f9-dfed-4bdf-bba6-2fcbb716d49d",
   "metadata": {},
   "outputs": [],
   "source": [
    "def test(*args) :\n",
    "    for i in args :\n",
    "        print(i)"
   ]
  },
  {
   "cell_type": "code",
   "execution_count": 13,
   "id": "04587ce9-5c7c-4ba8-a0f2-dede78e6f431",
   "metadata": {},
   "outputs": [
    {
     "name": "stdout",
     "output_type": "stream",
     "text": [
      "hello\n",
      "welcome\n",
      "to\n",
      "my\n",
      "home\n"
     ]
    }
   ],
   "source": [
    "test('hello','welcome','to','my','home')"
   ]
  },
  {
   "cell_type": "code",
   "execution_count": 14,
   "id": "7c2f1534-62da-4ffd-91f1-c54472a6635d",
   "metadata": {},
   "outputs": [],
   "source": [
    "def test1(**kwargs) :\n",
    "    return kwargs"
   ]
  },
  {
   "cell_type": "code",
   "execution_count": 15,
   "id": "35adef1c-46da-4bee-8244-f257e46702c6",
   "metadata": {},
   "outputs": [
    {
     "data": {
      "text/plain": [
       "{'a': [2, 4, 6, 8], 'b': [1, 3, 5, 7, 9]}"
      ]
     },
     "execution_count": 15,
     "metadata": {},
     "output_type": "execute_result"
    }
   ],
   "source": [
    "test1(a=[2,4,6,8],b=[1,3,5,7,9])"
   ]
  },
  {
   "cell_type": "markdown",
   "id": "e59cb226-26f0-4d75-8f9a-07c2aec875d0",
   "metadata": {},
   "source": [
    "Question 3 -What is an iterator in python ? Name the method used to initialise the iterator object and the method \n",
    "used for iteration .use these methods to print the first five elements of the given list [2,4,6,8,10,12,14,16,18,20]."
   ]
  },
  {
   "cell_type": "markdown",
   "id": "31309366-8dfd-4ee1-a705-9226d37654c3",
   "metadata": {},
   "source": [
    "ANS-Iterator in python is an object that is used to iterate over iterable objects like lists,tuples\n",
    "dicts and sets.the iterator object is initialized using the iter() method.It uses the next() method for iteration.\n",
    "1.The iter() method is called for the initialization of an iterator .this returns an iterator object.\n",
    "2.the next() method returns the next value for the iterable .when we use a for loop to traverse any iterable object,\n",
    "internally it uses the iter() method to get an iterator object,which further uses the next( ) method to iterator over.\n",
    "this method raises a stopiteration to single the end of the iteration ."
   ]
  },
  {
   "cell_type": "code",
   "execution_count": 6,
   "id": "f2bd6d9b-79e4-4ed0-8499-e76fcee4c3ad",
   "metadata": {},
   "outputs": [],
   "source": [
    "a=iter([2,4,6,8,10,12,16,18,20])"
   ]
  },
  {
   "cell_type": "code",
   "execution_count": 7,
   "id": "864857f2-a79b-445e-a069-52f0066314a6",
   "metadata": {},
   "outputs": [
    {
     "data": {
      "text/plain": [
       "2"
      ]
     },
     "execution_count": 7,
     "metadata": {},
     "output_type": "execute_result"
    }
   ],
   "source": [
    "next(a)"
   ]
  },
  {
   "cell_type": "code",
   "execution_count": 8,
   "id": "d9068ba0-d6be-49f2-b753-a5e49ef2eea1",
   "metadata": {},
   "outputs": [
    {
     "data": {
      "text/plain": [
       "4"
      ]
     },
     "execution_count": 8,
     "metadata": {},
     "output_type": "execute_result"
    }
   ],
   "source": [
    "next(a)"
   ]
  },
  {
   "cell_type": "code",
   "execution_count": 9,
   "id": "f082b45d-72b5-41f9-af15-fb86ec1f0dd4",
   "metadata": {},
   "outputs": [
    {
     "data": {
      "text/plain": [
       "6"
      ]
     },
     "execution_count": 9,
     "metadata": {},
     "output_type": "execute_result"
    }
   ],
   "source": [
    "next(a)"
   ]
  },
  {
   "cell_type": "code",
   "execution_count": 10,
   "id": "623356b2-265d-45ae-ae12-c445acb5348d",
   "metadata": {},
   "outputs": [
    {
     "data": {
      "text/plain": [
       "8"
      ]
     },
     "execution_count": 10,
     "metadata": {},
     "output_type": "execute_result"
    }
   ],
   "source": [
    "next(a)"
   ]
  },
  {
   "cell_type": "code",
   "execution_count": 11,
   "id": "c2cd7a60-3309-47b8-9d32-0549088bf8e3",
   "metadata": {},
   "outputs": [
    {
     "data": {
      "text/plain": [
       "10"
      ]
     },
     "execution_count": 11,
     "metadata": {},
     "output_type": "execute_result"
    }
   ],
   "source": [
    "next(a)"
   ]
  },
  {
   "cell_type": "markdown",
   "id": "e2d9e532-c2ac-4f83-9938-857712c44595",
   "metadata": {},
   "source": [
    "Question 4-What is a generator function in python ? why yeild keyword is used ?give an example \n",
    "of a generator function."
   ]
  },
  {
   "cell_type": "markdown",
   "id": "b574cb4e-83ec-4fa4-b2cb-6f2f728b1fd1",
   "metadata": {},
   "source": [
    "ANS-In python ,similar to defining a normal function,we can define a generator function using the def keyword\n",
    ",but instead of the return statement we use the yield statement.here,the yield keyword is used to produce a value \n",
    "from the generator.When the generator function is called ,it does not execute the function body immediately.\n",
    "instead ,it returns a generator object that can be iterated over to produce the values."
   ]
  },
  {
   "cell_type": "code",
   "execution_count": 1,
   "id": "201ba819-3007-4ba7-9f44-6880190d74bd",
   "metadata": {},
   "outputs": [],
   "source": [
    "def test(n) :\n",
    "    value=0\n",
    "    while value < n :\n",
    "        yield value\n",
    "        value+=1"
   ]
  },
  {
   "cell_type": "code",
   "execution_count": 4,
   "id": "dc8df9a0-e955-4e94-8c98-e04527257530",
   "metadata": {},
   "outputs": [],
   "source": [
    "a=test(3)"
   ]
  },
  {
   "cell_type": "code",
   "execution_count": 8,
   "id": "4015a0ff-1a69-4478-b24c-ed27f97dadf1",
   "metadata": {},
   "outputs": [
    {
     "name": "stdout",
     "output_type": "stream",
     "text": [
      "1\n",
      "2\n"
     ]
    }
   ],
   "source": [
    "for i in a :\n",
    "    print(i)"
   ]
  },
  {
   "cell_type": "markdown",
   "id": "0ac70048-6201-4244-a007-aa27c2cf4393",
   "metadata": {},
   "source": [
    "Q 5-Create a generator function for prime numbers less than 1000.use the next() method to print the first 20 prime numbers."
   ]
  },
  {
   "cell_type": "markdown",
   "id": "7c94a532-710b-4f89-95da-da0439caebd3",
   "metadata": {},
   "source": [
    "ANS-"
   ]
  },
  {
   "cell_type": "code",
   "execution_count": 14,
   "id": "b8ca3076-41d3-4674-a7c8-08a4cac6593e",
   "metadata": {},
   "outputs": [],
   "source": [
    "def prime_num(n):\n",
    "    for i in n:\n",
    "        if i>1 :\n",
    "            for k in range (2,i) :\n",
    "                if i % k==0 :\n",
    "                    break\n",
    "            else :\n",
    "                yield i       \n",
    "    \n",
    "    "
   ]
  },
  {
   "cell_type": "code",
   "execution_count": 15,
   "id": "14954ec7-96f6-4ac6-8f7d-e08bce2f8a76",
   "metadata": {},
   "outputs": [],
   "source": [
    "b=prime_num(range(1,1000))"
   ]
  },
  {
   "cell_type": "code",
   "execution_count": 17,
   "id": "331fcd6d-3273-4a1d-89c8-5711a60c9f8a",
   "metadata": {},
   "outputs": [
    {
     "name": "stdout",
     "output_type": "stream",
     "text": [
      "3\n",
      "5\n",
      "7\n",
      "11\n",
      "13\n",
      "17\n",
      "19\n",
      "23\n",
      "29\n",
      "31\n",
      "37\n",
      "41\n",
      "43\n",
      "47\n",
      "53\n",
      "59\n",
      "61\n",
      "67\n",
      "71\n",
      "73\n",
      "79\n",
      "83\n",
      "89\n",
      "97\n",
      "101\n",
      "103\n",
      "107\n",
      "109\n",
      "113\n",
      "127\n",
      "131\n",
      "137\n",
      "139\n",
      "149\n",
      "151\n",
      "157\n",
      "163\n",
      "167\n",
      "173\n",
      "179\n",
      "181\n",
      "191\n",
      "193\n",
      "197\n",
      "199\n",
      "211\n",
      "223\n",
      "227\n",
      "229\n",
      "233\n",
      "239\n",
      "241\n",
      "251\n",
      "257\n",
      "263\n",
      "269\n",
      "271\n",
      "277\n",
      "281\n",
      "283\n",
      "293\n",
      "307\n",
      "311\n",
      "313\n",
      "317\n",
      "331\n",
      "337\n",
      "347\n",
      "349\n",
      "353\n",
      "359\n",
      "367\n",
      "373\n",
      "379\n",
      "383\n",
      "389\n",
      "397\n",
      "401\n",
      "409\n",
      "419\n",
      "421\n",
      "431\n",
      "433\n",
      "439\n",
      "443\n",
      "449\n",
      "457\n",
      "461\n",
      "463\n",
      "467\n",
      "479\n",
      "487\n",
      "491\n",
      "499\n",
      "503\n",
      "509\n",
      "521\n",
      "523\n",
      "541\n",
      "547\n",
      "557\n",
      "563\n",
      "569\n",
      "571\n",
      "577\n",
      "587\n",
      "593\n",
      "599\n",
      "601\n",
      "607\n",
      "613\n",
      "617\n",
      "619\n",
      "631\n",
      "641\n",
      "643\n",
      "647\n",
      "653\n",
      "659\n",
      "661\n",
      "673\n",
      "677\n",
      "683\n",
      "691\n",
      "701\n",
      "709\n",
      "719\n",
      "727\n",
      "733\n",
      "739\n",
      "743\n",
      "751\n",
      "757\n",
      "761\n",
      "769\n",
      "773\n",
      "787\n",
      "797\n",
      "809\n",
      "811\n",
      "821\n",
      "823\n",
      "827\n",
      "829\n",
      "839\n",
      "853\n",
      "857\n",
      "859\n",
      "863\n",
      "877\n",
      "881\n",
      "883\n",
      "887\n",
      "907\n",
      "911\n",
      "919\n",
      "929\n",
      "937\n",
      "941\n",
      "947\n",
      "953\n",
      "967\n",
      "971\n",
      "977\n",
      "983\n",
      "991\n",
      "997\n"
     ]
    }
   ],
   "source": [
    "for j in b :\n",
    "    print(j)\n",
    "    "
   ]
  },
  {
   "cell_type": "code",
   "execution_count": 8,
   "id": "5cdb8c66-3c25-4d72-be7a-64df21614ab2",
   "metadata": {},
   "outputs": [
    {
     "name": "stdout",
     "output_type": "stream",
     "text": [
      "2\n",
      "3\n",
      "5\n",
      "7\n",
      "11\n",
      "13\n",
      "17\n",
      "19\n",
      "23\n",
      "29\n",
      "31\n",
      "37\n",
      "41\n",
      "43\n",
      "47\n",
      "53\n",
      "59\n",
      "61\n",
      "67\n",
      "71\n"
     ]
    }
   ],
   "source": [
    "for j in range(20) :\n",
    "    print(next(b))\n",
    "    "
   ]
  },
  {
   "cell_type": "markdown",
   "id": "1b6b3e50-deaf-46c3-82b5-bb598b7e6f58",
   "metadata": {},
   "source": [
    "Question 6-Write a python program to print the first 10 fibonacci numbers using a while loop."
   ]
  },
  {
   "cell_type": "code",
   "execution_count": 21,
   "id": "164f8edb-024e-44a1-8871-e8f5063a46e8",
   "metadata": {},
   "outputs": [],
   "source": [
    "def fib() :\n",
    "    a,b=0,1\n",
    "    while True :\n",
    "        yield a\n",
    "        a,b=b,a+b\n",
    "    "
   ]
  },
  {
   "cell_type": "code",
   "execution_count": 22,
   "id": "c72022e2-eda4-4070-bfe4-beb4cc684f68",
   "metadata": {},
   "outputs": [],
   "source": [
    "m=fib()"
   ]
  },
  {
   "cell_type": "code",
   "execution_count": 23,
   "id": "90f80f32-edd2-4540-9022-b5ca8523f11e",
   "metadata": {},
   "outputs": [
    {
     "name": "stdout",
     "output_type": "stream",
     "text": [
      "0\n",
      "1\n",
      "1\n",
      "2\n",
      "3\n",
      "5\n",
      "8\n",
      "13\n",
      "21\n",
      "34\n"
     ]
    }
   ],
   "source": [
    "for i in range(10):\n",
    "    print(next(m))\n",
    "\n",
    "    "
   ]
  },
  {
   "cell_type": "markdown",
   "id": "7b12ae29-b7f5-439b-9c0f-4f391664fb8e",
   "metadata": {},
   "source": [
    "Question 7-Write a list comprehension to iterate through the given string: 'pwskills'.\n",
    "expected output: ['p','w','s','k','i','l','l','s']"
   ]
  },
  {
   "cell_type": "code",
   "execution_count": 6,
   "id": "708d0a49-63cc-41a7-b61d-783840fc64a5",
   "metadata": {},
   "outputs": [
    {
     "data": {
      "text/plain": [
       "['p', 'w', 's', 'k', 'i', 'l', 'l', 's']"
      ]
     },
     "execution_count": 6,
     "metadata": {},
     "output_type": "execute_result"
    }
   ],
   "source": [
    "list(i for i in 'pwskills')"
   ]
  },
  {
   "cell_type": "markdown",
   "id": "b7bc4968-4b3c-40fd-b897-8a519ffdcf57",
   "metadata": {},
   "source": [
    "Question 8-Write a python program to check whether a given number is palindrome or not using a while loop."
   ]
  },
  {
   "cell_type": "code",
   "execution_count": 31,
   "id": "d236534b-5d29-48cb-a9ee-beb557344a4d",
   "metadata": {},
   "outputs": [
    {
     "name": "stdin",
     "output_type": "stream",
     "text": [
      "enter your digit 12321\n"
     ]
    },
    {
     "name": "stdout",
     "output_type": "stream",
     "text": [
      "the number is palindrome\n"
     ]
    }
   ],
   "source": [
    "num=int(input('enter your digit'))\n",
    "rev=0\n",
    "tem=num\n",
    "while num >0 :\n",
    "    rem=num%10\n",
    "    rev=rev*10+rem\n",
    "    num=num//10\n",
    "if (tem==rev) :\n",
    "    print('the number is palindrome')\n",
    "else :\n",
    "    print('the number is not palindrome')"
   ]
  },
  {
   "cell_type": "markdown",
   "id": "70b3abf5-8ea3-4bcb-9219-927e88b9c023",
   "metadata": {},
   "source": [
    "Q9-Write a code to print odd numbers from 1 to 100 using list comprehension."
   ]
  },
  {
   "cell_type": "code",
   "execution_count": 11,
   "id": "c96db61b-a81d-468a-8300-9a8a41b96db2",
   "metadata": {},
   "outputs": [
    {
     "name": "stdout",
     "output_type": "stream",
     "text": [
      "[1, 2, 3, 4, 5, 6, 7, 8, 9, 10, 11, 12, 13, 14, 15, 16, 17, 18, 19, 20, 21, 22, 23, 24, 25, 26, 27, 28, 29, 30, 31, 32, 33, 34, 35, 36, 37, 38, 39, 40, 41, 42, 43, 44, 45, 46, 47, 48, 49, 50, 51, 52, 53, 54, 55, 56, 57, 58, 59, 60, 61, 62, 63, 64, 65, 66, 67, 68, 69, 70, 71, 72, 73, 74, 75, 76, 77, 78, 79, 80, 81, 82, 83, 84, 85, 86, 87, 88, 89, 90, 91, 92, 93, 94, 95, 96, 97, 98, 99, 100]\n"
     ]
    }
   ],
   "source": [
    "print(list(range(1,101)))"
   ]
  },
  {
   "cell_type": "code",
   "execution_count": 20,
   "id": "00c8d289-ba74-478f-b58f-973472ea0915",
   "metadata": {},
   "outputs": [
    {
     "name": "stdout",
     "output_type": "stream",
     "text": [
      "[1, 3, 5, 7, 9, 11, 13, 15, 17, 19, 21, 23, 25, 27, 29, 31, 33, 35, 37, 39, 41, 43, 45, 47, 49, 51, 53, 55, 57, 59, 61, 63, 65, 67, 69, 71, 73, 75, 77, 79, 81, 83, 85, 87, 89, 91, 93, 95, 97, 99]\n"
     ]
    }
   ],
   "source": [
    "print(list(i for i in range(1,101) if i%2!=0))"
   ]
  },
  {
   "cell_type": "code",
   "execution_count": null,
   "id": "1e869873-eb56-4378-828f-a73209e38305",
   "metadata": {},
   "outputs": [],
   "source": [
    "                             ***END***"
   ]
  }
 ],
 "metadata": {
  "kernelspec": {
   "display_name": "Python 3 (ipykernel)",
   "language": "python",
   "name": "python3"
  },
  "language_info": {
   "codemirror_mode": {
    "name": "ipython",
    "version": 3
   },
   "file_extension": ".py",
   "mimetype": "text/x-python",
   "name": "python",
   "nbconvert_exporter": "python",
   "pygments_lexer": "ipython3",
   "version": "3.10.8"
  }
 },
 "nbformat": 4,
 "nbformat_minor": 5
}
